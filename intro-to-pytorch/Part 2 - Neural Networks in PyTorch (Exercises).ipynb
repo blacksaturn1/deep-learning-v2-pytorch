{
 "cells": [
  {
   "cell_type": "markdown",
   "metadata": {},
   "source": [
    "# Neural networks with PyTorch\n",
    "\n",
    "Deep learning networks tend to be massive with dozens or hundreds of layers, that's where the term \"deep\" comes from. You can build one of these deep networks using only weight matrices as we did in the previous notebook, but in general it's very cumbersome and difficult to implement. PyTorch has a nice module `nn` that provides a nice way to efficiently build large neural networks."
   ]
  },
  {
   "cell_type": "code",
   "execution_count": 1,
   "metadata": {},
   "outputs": [],
   "source": [
    "# Import necessary packages\n",
    "\n",
    "%matplotlib inline\n",
    "%config InlineBackend.figure_format = 'retina'\n",
    "\n",
    "import numpy as np\n",
    "import torch\n",
    "\n",
    "import helper\n",
    "\n",
    "import matplotlib.pyplot as plt"
   ]
  },
  {
   "cell_type": "markdown",
   "metadata": {},
   "source": [
    "\n",
    "Now we're going to build a larger network that can solve a (formerly) difficult problem, identifying text in an image. Here we'll use the MNIST dataset which consists of greyscale handwritten digits. Each image is 28x28 pixels, you can see a sample below\n",
    "\n",
    "<img src='assets/mnist.png'>\n",
    "\n",
    "Our goal is to build a neural network that can take one of these images and predict the digit in the image.\n",
    "\n",
    "First up, we need to get our dataset. This is provided through the `torchvision` package. The code below will download the MNIST dataset, then create training and test datasets for us. Don't worry too much about the details here, you'll learn more about this later."
   ]
  },
  {
   "cell_type": "code",
   "execution_count": 2,
   "metadata": {},
   "outputs": [],
   "source": [
    "### Run this cell\n",
    "\n",
    "from torchvision import datasets, transforms\n",
    "\n",
    "# Define a transform to normalize the data\n",
    "transform = transforms.Compose([transforms.ToTensor(),\n",
    "                              transforms.Normalize((0.5,), (0.5,)),\n",
    "                              ])\n",
    "\n",
    "# Download and load the training data\n",
    "trainset = datasets.MNIST('~/.pytorch/MNIST_data/', download=True, train=True, transform=transform)\n",
    "trainloader = torch.utils.data.DataLoader(trainset, batch_size=64, shuffle=True)"
   ]
  },
  {
   "cell_type": "markdown",
   "metadata": {},
   "source": [
    "We have the training data loaded into `trainloader` and we make that an iterator with `iter(trainloader)`. Later, we'll use this to loop through the dataset for training, like\n",
    "\n",
    "```python\n",
    "for image, label in trainloader:\n",
    "    ## do things with images and labels\n",
    "```\n",
    "\n",
    "You'll notice I created the `trainloader` with a batch size of 64, and `shuffle=True`. The batch size is the number of images we get in one iteration from the data loader and pass through our network, often called a *batch*. And `shuffle=True` tells it to shuffle the dataset every time we start going through the data loader again. But here I'm just grabbing the first batch so we can check out the data. We can see below that `images` is just a tensor with size `(64, 1, 28, 28)`. So, 64 images per batch, 1 color channel, and 28x28 images."
   ]
  },
  {
   "cell_type": "code",
   "execution_count": 3,
   "metadata": {},
   "outputs": [
    {
     "name": "stdout",
     "output_type": "stream",
     "text": [
      "<class 'torch.Tensor'>\n",
      "torch.Size([64, 1, 28, 28])\n",
      "torch.Size([64])\n"
     ]
    }
   ],
   "source": [
    "dataiter = iter(trainloader)\n",
    "images, labels = dataiter.next()\n",
    "print(type(images))\n",
    "print(images.shape)\n",
    "print(labels.shape)"
   ]
  },
  {
   "cell_type": "markdown",
   "metadata": {},
   "source": [
    "This is what one of the images looks like. "
   ]
  },
  {
   "cell_type": "code",
   "execution_count": 4,
   "metadata": {},
   "outputs": [
    {
     "data": {
      "image/png": "[encoded data removed]",
      "text/plain": [
       "<Figure size 432x288 with 1 Axes>"
      ]
     },
     "metadata": {
      "image/png": {
       "height": 248,
       "width": 251
      },
      "needs_background": "light"
     },
     "output_type": "display_data"
    }
   ],
   "source": [
    "plt.imshow(images[1].numpy().squeeze(), cmap='Greys_r');"
   ]
  },
  {
   "cell_type": "markdown",
   "metadata": {},
   "source": [
    "First, let's try to build a simple network for this dataset using weight matrices and matrix multiplications. Then, we'll see how to do it using PyTorch's `nn` module which provides a much more convenient and powerful method for defining network architectures.\n",
    "\n",
    "The networks you've seen so far are called *fully-connected* or *dense* networks. Each unit in one layer is connected to each unit in the next layer. In fully-connected networks, the input to each layer must be a one-dimensional vector (which can be stacked into a 2D tensor as a batch of multiple examples). However, our images are 28x28 2D tensors, so we need to convert them into 1D vectors. Thinking about sizes, we need to convert the batch of images with shape `(64, 1, 28, 28)` to a have a shape of `(64, 784)`, 784 is 28 times 28. This is typically called *flattening*, we flattened the 2D images into 1D vectors.\n",
    "\n",
    "Previously you built a network with one output unit. Here we need 10 output units, one for each digit. We want our network to predict the digit shown in an image, so what we'll do is calculate probabilities that the image is of any one digit or class. This ends up being a discrete probability distribution over the classes (digits) that tells us the most likely class for the image. That means we need 10 output units for the 10 classes (digits). We'll see how to convert the network output into a probability distribution next.\n",
    "\n",
    "> **Exercise:** Flatten the batch of images `images`. Then build a multi-layer network with 784 input units, 256 hidden units, and 10 output units using random tensors for the weights and biases. For now, use a sigmoid activation for the hidden layer. Leave the output layer without an activation, we'll add one that gives us a probability distribution next."
   ]
  },
  {
   "cell_type": "code",
   "execution_count": 5,
   "metadata": {},
   "outputs": [
    {
     "name": "stdout",
     "output_type": "stream",
     "text": [
      "tensor([[-8.2275e+00, -1.0901e+01,  5.0343e+00, -1.2493e+01,  1.4637e+00,\n",
      "          6.9631e+00, -1.9445e+00, -5.1593e-01, -1.2712e+01, -1.6011e+01],\n",
      "        [-1.5584e+01, -5.3025e+00, -1.0042e+00, -9.1664e+00,  1.0405e+01,\n",
      "          2.0038e+00, -6.8517e+00,  2.3632e+00, -1.0994e+01, -5.2743e+00],\n",
      "        [-1.4536e+01,  2.6837e+00,  3.2770e+00, -2.4670e+00, -1.1291e+00,\n",
      "          9.6091e+00, -1.7720e+01, -1.3554e+01, -1.7552e+00,  9.7264e-03],\n",
      "        [-1.3870e+01, -6.0014e+00,  4.4288e+00, -6.9014e+00, -3.5071e-01,\n",
      "          1.4931e+01, -1.0324e+01, -1.7106e+01, -9.6710e+00,  6.1074e+00],\n",
      "        [-1.7758e+01, -7.5365e+00,  2.8167e+00, -1.2441e+01,  2.8616e+00,\n",
      "          2.8630e+00, -1.1581e+01, -3.1318e+00, -1.9440e+01,  7.2715e-01],\n",
      "        [-9.5641e+00, -3.1439e+00,  1.1066e+00, -1.8872e+01,  1.2034e+01,\n",
      "          1.0850e+01, -2.5829e+00, -4.0953e-01, -1.5058e+01,  1.3635e+00],\n",
      "        [-1.5349e+01, -7.9012e+00,  4.0848e+00, -2.3580e+01,  2.4034e+00,\n",
      "          2.6259e+00, -6.5523e+00,  1.1193e+01, -4.6454e+00, -7.4264e+00],\n",
      "        [-1.6262e+01, -1.2029e+01,  9.2908e-01, -8.8224e+00,  1.7292e+01,\n",
      "          1.1926e+01, -8.5264e+00,  5.3748e+00, -1.5858e+01,  1.8674e+00],\n",
      "        [-1.2607e+01, -1.7164e+01, -7.7913e-01, -1.0727e+01,  2.3574e+00,\n",
      "          1.1289e+01, -1.8953e+00,  6.2785e+00, -1.5415e+01, -5.3139e+00],\n",
      "        [-1.5228e+01, -6.5017e+00, -3.2623e+00, -2.0023e+01,  6.0583e+00,\n",
      "          9.1314e+00,  2.8550e+00,  1.1563e+01, -6.3515e+00, -5.1969e+00],\n",
      "        [-1.4005e+01, -1.0633e+01, -7.9935e-01, -1.1055e+01,  1.0154e+01,\n",
      "          3.9674e+00, -5.8473e+00,  2.9107e+00, -1.0102e+01,  1.8781e-01],\n",
      "        [-1.9518e+01, -3.0987e+00,  5.1895e+00, -8.5663e+00,  4.8907e+00,\n",
      "          1.1143e+01,  1.3154e+00, -2.0696e+00, -1.1633e+01, -8.5095e+00],\n",
      "        [-3.3215e+00, -1.3415e+01, -3.9647e+00, -7.9589e+00,  7.8281e+00,\n",
      "          1.5670e+01, -1.4644e+00,  1.1719e+00, -1.8739e+01, -6.1934e+00],\n",
      "        [-1.6042e+01, -3.8581e+00,  9.8189e-01, -8.3398e+00,  3.1261e+00,\n",
      "          2.7768e-01, -7.7578e+00, -7.1147e+00, -1.4570e+01, -5.3610e-01],\n",
      "        [-1.0439e+01, -1.2771e+01, -5.7910e+00, -9.4647e+00,  6.0937e+00,\n",
      "          5.9689e+00, -6.7123e+00,  9.0679e+00, -1.0717e+01, -1.1190e+01],\n",
      "        [-9.1953e+00,  4.0292e+00, -3.3055e+00, -1.2119e+01,  1.5761e+01,\n",
      "         -8.0871e-02, -1.9151e+01,  1.0105e+01, -9.5834e+00, -8.7479e+00],\n",
      "        [-2.4292e+01, -8.6588e+00,  5.2392e+00, -1.3123e+01,  7.4480e+00,\n",
      "          1.2986e+01, -5.1804e+00,  4.8394e+00, -1.3734e+01,  3.9852e+00],\n",
      "        [-2.5313e+01, -7.1166e+00,  3.4471e-02, -4.1846e+00, -1.5395e+00,\n",
      "          9.0966e+00,  2.5372e+00, -5.1115e+00, -2.0009e+01,  9.2749e-01],\n",
      "        [-1.0073e+01, -7.6489e+00, -7.1606e+00, -3.4651e+00,  8.7789e+00,\n",
      "          9.6376e+00, -9.1238e+00,  4.2496e+00, -7.6574e+00,  1.0787e+00],\n",
      "        [-5.7243e+00, -1.2802e+01,  7.2692e-01, -1.1033e+01,  7.9340e+00,\n",
      "          1.4239e+01, -4.0901e+00,  7.1697e+00, -1.0279e+01, -1.4864e+01],\n",
      "        [-1.5523e+01, -2.2872e+00, -1.3671e-01, -5.3876e+00,  8.9856e+00,\n",
      "          3.3849e+00, -6.8476e+00,  2.2475e+00, -1.2462e+01,  1.2449e+00],\n",
      "        [-2.1835e+01, -7.0137e+00,  1.5647e+00, -1.6303e+01,  1.0687e+01,\n",
      "          1.2270e+01,  6.4517e+00,  9.7435e+00, -1.2335e+01, -3.1147e+00],\n",
      "        [-1.7709e+01, -8.8555e+00,  3.4780e-01, -2.9193e+00,  1.3591e+01,\n",
      "          2.0943e-01, -1.3795e+01,  1.0918e+01, -1.0414e+01,  9.4559e-01],\n",
      "        [-1.4507e+01, -1.1323e+01,  6.6376e-01, -1.7797e+01,  1.0143e+01,\n",
      "          4.4800e+00, -8.2143e+00,  1.0215e+01, -1.2763e+01, -8.9046e+00],\n",
      "        [-1.0017e+01, -8.6663e+00, -6.4470e-01, -1.7091e+01,  1.0218e+01,\n",
      "          1.3287e+01, -6.8796e+00,  6.0208e+00, -1.1328e+01, -7.8978e+00],\n",
      "        [-1.8400e+01, -5.7288e+00, -1.7852e+00, -7.2049e+00, -8.8315e+00,\n",
      "          9.2380e+00, -1.2794e+01, -1.5000e+01, -1.2516e+01,  6.8049e+00],\n",
      "        [-1.1088e+01, -3.9433e+00, -8.9208e+00, -1.6643e+01,  2.4019e+00,\n",
      "          2.1077e+00,  1.6860e+00,  6.0847e+00, -1.5872e+01,  4.0267e+00],\n",
      "        [-1.7471e+01, -9.8073e+00,  1.8855e-02, -1.3324e+01,  8.5212e+00,\n",
      "          5.6525e-01, -8.6251e+00,  2.1252e+00, -5.1661e+00, -1.0826e+01],\n",
      "        [-1.7866e+01, -1.2118e+01, -1.0135e+01, -8.5672e+00,  1.3260e+01,\n",
      "          1.3383e+01, -6.8270e+00,  8.2417e+00, -1.6769e+01, -6.2447e+00],\n",
      "        [-1.3282e+01, -7.1448e+00, -4.3216e+00, -2.5334e+00,  1.3277e+01,\n",
      "          5.2168e+00, -1.1739e+01,  1.0747e+01, -1.5649e+01, -1.0493e+01],\n",
      "        [-1.6812e+01, -3.6533e+00,  6.3534e+00, -1.2727e+01,  3.2486e+00,\n",
      "          3.5041e+00, -4.0959e+00,  4.2705e+00, -1.2578e+01,  3.4375e+00],\n",
      "        [-1.9950e+01, -4.3931e+00, -2.8392e+00, -1.2206e+01,  2.9318e+00,\n",
      "          2.8679e+00, -4.8512e+00,  3.5786e+00, -2.0387e+01, -2.9465e+00],\n",
      "        [-5.3190e+00, -4.5136e+00, -8.9912e+00, -1.1874e+01,  8.4456e+00,\n",
      "          1.3776e+01, -1.0309e+01, -3.4708e+00, -3.7053e+00, -2.7634e+00],\n",
      "        [-1.9178e+01, -1.2945e+01, -3.1482e+00, -1.4018e+01,  3.9112e+00,\n",
      "          1.3481e+01, -1.6028e+00,  2.8678e+00, -1.5374e+01, -9.5487e+00],\n",
      "        [-1.5569e+01, -9.7548e+00,  4.8598e+00, -1.0722e+01,  7.1251e+00,\n",
      "          4.9549e+00, -1.1994e+01, -1.2972e-01, -1.0654e+01, -2.7251e+00],\n",
      "        [-1.2836e+01,  1.6754e+00,  2.7578e+00, -1.8170e+01,  6.7031e+00,\n",
      "          2.9668e+00,  2.4613e+00,  1.7776e+00, -1.5587e+01, -4.5511e+00],\n",
      "        [-2.0023e+01, -8.2585e+00, -1.4395e+01, -5.4364e+00,  2.1522e+00,\n",
      "          5.2730e+00, -1.7061e+01,  7.4008e+00, -8.1958e+00, -4.7711e+00],\n",
      "        [-1.0471e+01, -7.4410e+00,  1.9469e+00, -5.2491e+00,  5.4614e+00,\n",
      "          8.4212e+00, -2.1479e+00, -2.7424e+00, -7.5474e+00, -9.7746e+00],\n",
      "        [-1.7673e+01, -8.7328e+00,  3.7765e+00, -4.3311e+00,  1.0988e+01,\n",
      "          2.5828e+00, -1.1585e+01,  1.0610e+01, -5.3082e+00, -1.2747e+01],\n",
      "        [-1.5219e+01, -7.4028e+00, -1.9911e+00, -1.2995e+01,  7.1519e+00,\n",
      "          2.6825e+00, -5.8637e+00,  6.7527e+00, -1.3896e+01, -5.6401e+00],\n",
      "        [-1.0802e+01, -4.4560e+00,  3.1928e+00, -9.9656e+00,  1.5156e+01,\n",
      "          6.0996e+00, -7.7337e+00,  7.2996e-01, -1.2842e+01, -4.7701e+00],\n",
      "        [-2.5155e+01, -1.2896e+01, -8.6566e-01, -1.9193e+01,  6.4821e+00,\n",
      "          4.2882e+00, -9.8259e+00, -1.7721e+00, -1.5416e+01, -3.8491e-01],\n",
      "        [-6.2142e+00, -1.4195e+01,  3.0306e+00, -5.5762e+00,  1.1702e+01,\n",
      "          3.4762e+00,  1.2991e+00, -6.3705e+00, -1.6001e+01, -6.9250e+00],\n",
      "        [-1.2241e+01,  1.4814e+00,  2.7586e-01,  4.3595e+00,  3.7610e+00,\n",
      "          1.2256e+01, -6.9162e+00, -1.3117e+01, -3.7163e+00,  7.0317e+00],\n",
      "        [-1.0473e+01,  8.5896e-02, -2.0442e-01, -8.8412e+00,  1.3101e+01,\n",
      "          6.8312e+00, -5.6559e+00,  7.7049e+00, -9.0851e+00,  1.5811e-01],\n",
      "        [-1.6563e+01, -8.1976e+00, -2.7879e+00, -8.6813e+00,  1.1517e+01,\n",
      "          2.3255e+00, -1.5186e+00,  4.8938e+00, -1.5654e+01, -2.9967e+00],\n",
      "        [-1.3656e+01, -4.3438e+00, -4.2008e+00, -1.9625e+01,  9.5536e+00,\n",
      "          1.1402e+01,  9.6853e+00,  1.1336e+01, -1.1478e+01, -1.1970e+00],\n",
      "        [-2.1056e+01, -4.0131e+00,  3.7890e+00, -1.0977e+01,  1.6762e+00,\n",
      "          2.7030e+00, -4.2251e-01, -5.4978e+00, -1.5479e+01, -1.0778e+01],\n",
      "        [-7.0701e+00, -1.2400e+01,  1.6940e+00, -4.3128e+00,  3.4126e+00,\n",
      "          4.9418e+00, -9.8614e+00, -2.5499e+00, -1.3108e+01,  4.0202e+00],\n",
      "        [-1.5927e+01, -6.2294e+00, -5.1406e+00, -1.6212e+01,  7.6784e+00,\n",
      "          7.0599e+00,  1.8183e+00,  1.2157e+01, -8.5057e+00, -5.3463e+00],\n",
      "        [-1.3465e+01, -1.1129e+01, -5.5517e+00, -1.4267e+01,  1.1771e+01,\n",
      "          5.3847e+00,  1.8716e+00,  4.6209e+00, -1.6155e+01, -4.4154e+00],\n",
      "        [-1.7725e+01, -6.2633e+00, -1.6791e+00,  6.0975e-01,  3.3090e+00,\n",
      "          1.7692e+01, -6.0450e+00, -7.3789e+00, -8.1020e+00, -8.2501e-01],\n",
      "        [-1.3403e+01, -2.7380e+00, -1.9978e+00, -1.8457e+00,  1.0996e+01,\n",
      "          6.0727e+00, -5.2136e+00,  2.7492e-01, -6.7845e+00, -3.9725e+00],\n",
      "        [-2.0857e+01, -1.4912e+01, -4.9997e+00, -6.0630e+00,  1.0132e+01,\n",
      "         -3.9668e+00, -2.5016e+00,  5.7629e+00, -1.1569e+01, -5.0063e+00],\n",
      "        [-1.8332e+01, -9.6763e+00, -3.7406e+00, -2.0867e+01,  8.0800e+00,\n",
      "          6.9350e+00, -1.0907e+01,  2.2352e+00, -4.8282e+00, -1.0506e+01],\n",
      "        [-1.2804e+01, -5.4286e+00,  3.6866e+00, -7.1990e+00,  1.3799e+01,\n",
      "         -2.5211e+00, -8.1249e+00, -4.8777e+00, -1.5601e+01,  7.2807e+00],\n",
      "        [-1.3886e+01, -7.5466e+00, -1.1438e+01, -6.7506e+00,  1.0308e+01,\n",
      "          2.1232e+00, -2.1454e+01,  4.2996e+00, -7.9270e+00, -1.4486e+01],\n",
      "        [-1.5233e+01, -9.6205e+00, -2.7268e+00, -7.8852e+00,  1.1912e+01,\n",
      "          1.1691e+01,  1.1646e+00,  2.7589e+00, -1.2476e+01, -1.9448e+00],\n",
      "        [-1.1012e+01, -9.1658e+00, -2.6425e+00, -4.6852e+00,  4.8819e+00,\n",
      "          1.0956e+01, -1.6726e+01, -5.0729e+00, -1.8519e+01,  1.0212e+01],\n",
      "        [-1.6668e+01, -2.5373e+00, -1.1370e+01, -1.4955e+01, -3.6617e+00,\n",
      "          1.1178e+01,  2.9440e+00, -9.2067e+00, -1.6140e+01,  4.7057e+00],\n",
      "        [-8.4377e+00, -9.8466e+00, -1.1984e+00, -1.0372e+01,  1.8212e+00,\n",
      "          8.3229e+00, -5.7275e+00, -1.6102e+00, -1.8237e+01, -8.9905e+00],\n",
      "        [-1.6731e+01, -3.2611e+00,  6.3265e-01, -3.3777e+00,  7.4760e+00,\n",
      "          1.2644e+01, -1.1928e+01, -1.5540e+01, -6.7283e+00,  8.9807e+00],\n",
      "        [-1.3071e+01, -2.2500e+00,  2.5280e+00, -1.4336e+01, -3.0231e+00,\n",
      "          1.2450e+01,  7.7031e+00, -2.4635e-01, -9.2326e+00,  3.9401e+00],\n",
      "        [-1.1824e+01, -8.9848e+00,  4.0265e+00, -5.4224e+00,  5.7497e+00,\n",
      "          4.2862e+00, -6.9026e+00, -5.6499e+00, -1.1843e+01, -4.7262e-01]])\n"
     ]
    }
   ],
   "source": [
    "def activation(x):\n",
    "    \"\"\" Sigmoid activation function \n",
    "    \n",
    "        Arguments\n",
    "        ---------\n",
    "        x: torch.Tensor\n",
    "    \"\"\"\n",
    "    return 1/(1+torch.exp(-x))\n",
    "\n",
    "### Generate some data\n",
    "torch.manual_seed(7) # Set the random seed so things are predictable\n",
    "\n",
    "# Features are 3 random normal variables\n",
    "features = images.view(64,784)\n",
    "\n",
    "\n",
    "# Define the size of each layer in our network\n",
    "n_input = features.shape[1]     # Number of input units, must match number of input features\n",
    "n_hidden = 256                    # Number of hidden units \n",
    "n_output = 10                    # Number of output units\n",
    "\n",
    "# Weights for inputs to hidden layer\n",
    "W1 = torch.randn(n_input, n_hidden)\n",
    "# Weights for hidden layer to output layer\n",
    "W2 = torch.randn(n_hidden, n_output)\n",
    "\n",
    "# and bias terms for hidden and output layers\n",
    "B1 = torch.randn((1, n_hidden))\n",
    "B2 = torch.randn((1, n_output))\n",
    "## Your solution here\n",
    "h_h = activation(torch.mm(features, W1)+B1)\n",
    "#print(h_h)\n",
    "output_h = torch.mm(h_h, W2)+B2\n",
    "output_h\n",
    "out =output_h\n",
    "out.shape\n",
    "print(out)"
   ]
  },
  {
   "cell_type": "markdown",
   "metadata": {},
   "source": [
    "Now we have 10 outputs for our network. We want to pass in an image to our network and get out a probability distribution over the classes that tells us the likely class(es) the image belongs to. Something that looks like this:\n",
    "<img src='assets/image_distribution.png' width=500px>\n",
    "\n",
    "Here we see that the probability for each class is roughly the same. This is representing an untrained network, it hasn't seen any data yet so it just returns a uniform distribution with equal probabilities for each class.\n",
    "\n",
    "To calculate this probability distribution, we often use the [**softmax** function](https://en.wikipedia.org/wiki/Softmax_function). Mathematically this looks like\n",
    "\n",
    "$$\n",
    "\\Large \\sigma(x_i) = \\cfrac{e^{x_i}}{\\sum_k^K{e^{x_k}}}\n",
    "$$\n",
    "\n",
    "What this does is squish each input $x_i$ between 0 and 1 and normalizes the values to give you a proper probability distribution where the probabilites sum up to one.\n",
    "\n",
    "> **Exercise:** Implement a function `softmax` that performs the softmax calculation and returns probability distributions for each example in the batch. Note that you'll need to pay attention to the shapes when doing this. If you have a tensor `a` with shape `(64, 10)` and a tensor `b` with shape `(64,)`, doing `a/b` will give you an error because PyTorch will try to do the division across the columns (called broadcasting) but you'll get a size mismatch. The way to think about this is for each of the 64 examples, you only want to divide by one value, the sum in the denominator. So you need `b` to have a shape of `(64, 1)`. This way PyTorch will divide the 10 values in each row of `a` by the one value in each row of `b`. Pay attention to how you take the sum as well. You'll need to define the `dim` keyword in `torch.sum`. Setting `dim=0` takes the sum across the rows while `dim=1` takes the sum across the columns."
   ]
  },
  {
   "cell_type": "code",
   "execution_count": 6,
   "metadata": {},
   "outputs": [
    {
     "name": "stdout",
     "output_type": "stream",
     "text": [
      "tensor([-15.5839,  -5.3025,  -1.0042,  -9.1664,  10.4051,   2.0038,  -6.8517,\n",
      "          2.3632, -10.9936,  -5.2743])\n",
      "torch.Size([64, 10])\n",
      "tensor([2.1981e-07, 1.5170e-08, 1.2635e-01, 3.0879e-09, 3.5553e-03, 8.6949e-01,\n",
      "        1.1769e-04, 4.9108e-04, 2.4803e-09, 9.1531e-11])\n",
      "tensor(1.)\n",
      "tensor([1.0000, 1.0000, 1.0000, 1.0000, 1.0000, 1.0000, 1.0000, 1.0000, 1.0000,\n",
      "        1.0000, 1.0000, 1.0000, 1.0000, 1.0000, 1.0000, 1.0000, 1.0000, 1.0000,\n",
      "        1.0000, 1.0000, 1.0000, 1.0000, 1.0000, 1.0000, 1.0000, 1.0000, 1.0000,\n",
      "        1.0000, 1.0000, 1.0000, 1.0000, 1.0000, 1.0000, 1.0000, 1.0000, 1.0000,\n",
      "        1.0000, 1.0000, 1.0000, 1.0000, 1.0000, 1.0000, 1.0000, 1.0000, 1.0000,\n",
      "        1.0000, 1.0000, 1.0000, 1.0000, 1.0000, 1.0000, 1.0000, 1.0000, 1.0000,\n",
      "        1.0000, 1.0000, 1.0000, 1.0000, 1.0000, 1.0000, 1.0000, 1.0000, 1.0000,\n",
      "        1.0000])\n"
     ]
    }
   ],
   "source": [
    "def softmax(x):\n",
    "    ## TODO: Implement the softmax function here\n",
    "    ss =  torch.sum( torch.exp(x),dim=1).view(-1, 1)\n",
    "    #print(ss)\n",
    "    soft = torch.exp(x)/ss\n",
    "    return soft\n",
    "\n",
    "print(out[1])\n",
    "# Here, out should be the output of the network in the previous excercise with shape (64,10)\n",
    "probabilities = softmax(out)\n",
    "\n",
    "# Does it have the right shape? Should be (64, 10)\n",
    "print(probabilities.shape)\n",
    "# Does it sum to 1?\n",
    "print(probabilities[0,:])\n",
    "print(probabilities[0,:].sum())\n",
    "\n",
    "print(probabilities.sum(dim=1))"
   ]
  },
  {
   "cell_type": "markdown",
   "metadata": {},
   "source": [
    "## Building networks with PyTorch\n",
    "\n",
    "PyTorch provides a module `nn` that makes building networks much simpler. Here I'll show you how to build the same one as above with 784 inputs, 256 hidden units, 10 output units and a softmax output."
   ]
  },
  {
   "cell_type": "code",
   "execution_count": 7,
   "metadata": {},
   "outputs": [],
   "source": [
    "from torch import nn"
   ]
  },
  {
   "cell_type": "code",
   "execution_count": 8,
   "metadata": {},
   "outputs": [],
   "source": [
    "class Network(nn.Module):\n",
    "    def __init__(self):\n",
    "        super().__init__()\n",
    "        \n",
    "        # Inputs to hidden layer linear transformation\n",
    "        self.hidden = nn.Linear(784, 256)\n",
    "        # Output layer, 10 units - one for each digit\n",
    "        self.output = nn.Linear(256, 10)\n",
    "        \n",
    "        # Define sigmoid activation and softmax output \n",
    "        self.sigmoid = nn.Sigmoid()\n",
    "        self.softmax = nn.Softmax(dim=1)\n",
    "        \n",
    "    def forward(self, x):\n",
    "        # Pass the input tensor through each of our operations\n",
    "        x = self.hidden(x)\n",
    "        x = self.sigmoid(x)\n",
    "        x = self.output(x)\n",
    "        x = self.softmax(x)\n",
    "        \n",
    "        return x"
   ]
  },
  {
   "cell_type": "markdown",
   "metadata": {},
   "source": [
    "Let's go through this bit by bit.\n",
    "\n",
    "```python\n",
    "class Network(nn.Module):\n",
    "```\n",
    "\n",
    "Here we're inheriting from `nn.Module`. Combined with `super().__init__()` this creates a class that tracks the architecture and provides a lot of useful methods and attributes. It is mandatory to inherit from `nn.Module` when you're creating a class for your network. The name of the class itself can be anything.\n",
    "\n",
    "```python\n",
    "self.hidden = nn.Linear(784, 256)\n",
    "```\n",
    "\n",
    "This line creates a module for a linear transformation, $x\\mathbf{W} + b$, with 784 inputs and 256 outputs and assigns it to `self.hidden`. The module automatically creates the weight and bias tensors which we'll use in the `forward` method. You can access the weight and bias tensors once the network (`net`) is created with `net.hidden.weight` and `net.hidden.bias`.\n",
    "\n",
    "```python\n",
    "self.output = nn.Linear(256, 10)\n",
    "```\n",
    "\n",
    "Similarly, this creates another linear transformation with 256 inputs and 10 outputs.\n",
    "\n",
    "```python\n",
    "self.sigmoid = nn.Sigmoid()\n",
    "self.softmax = nn.Softmax(dim=1)\n",
    "```\n",
    "\n",
    "Here I defined operations for the sigmoid activation and softmax output. Setting `dim=1` in `nn.Softmax(dim=1)` calculates softmax across the columns.\n",
    "\n",
    "```python\n",
    "def forward(self, x):\n",
    "```\n",
    "\n",
    "PyTorch networks created with `nn.Module` must have a `forward` method defined. It takes in a tensor `x` and passes it through the operations you defined in the `__init__` method.\n",
    "\n",
    "```python\n",
    "x = self.hidden(x)\n",
    "x = self.sigmoid(x)\n",
    "x = self.output(x)\n",
    "x = self.softmax(x)\n",
    "```\n",
    "\n",
    "Here the input tensor `x` is passed through each operation and reassigned to `x`. We can see that the input tensor goes through the hidden layer, then a sigmoid function, then the output layer, and finally the softmax function. It doesn't matter what you name the variables here, as long as the inputs and outputs of the operations match the network architecture you want to build. The order in which you define things in the `__init__` method doesn't matter, but you'll need to sequence the operations correctly in the `forward` method.\n",
    "\n",
    "Now we can create a `Network` object."
   ]
  },
  {
   "cell_type": "code",
   "execution_count": 9,
   "metadata": {},
   "outputs": [
    {
     "data": {
      "text/plain": [
       "Network(\n",
       "  (hidden): Linear(in_features=784, out_features=256, bias=True)\n",
       "  (output): Linear(in_features=256, out_features=10, bias=True)\n",
       "  (sigmoid): Sigmoid()\n",
       "  (softmax): Softmax(dim=1)\n",
       ")"
      ]
     },
     "execution_count": 9,
     "metadata": {},
     "output_type": "execute_result"
    }
   ],
   "source": [
    "# Create the network and look at it's text representation\n",
    "model = Network()\n",
    "model"
   ]
  },
  {
   "cell_type": "markdown",
   "metadata": {},
   "source": [
    "You can define the network somewhat more concisely and clearly using the `torch.nn.functional` module. This is the most common way you'll see networks defined as many operations are simple element-wise functions. We normally import this module as `F`, `import torch.nn.functional as F`."
   ]
  },
  {
   "cell_type": "code",
   "execution_count": 10,
   "metadata": {},
   "outputs": [],
   "source": [
    "import torch.nn.functional as F\n",
    "\n",
    "class Network(nn.Module):\n",
    "    def __init__(self):\n",
    "        super().__init__()\n",
    "        # Inputs to hidden layer linear transformation\n",
    "        self.hidden = nn.Linear(784, 256)\n",
    "        # Output layer, 10 units - one for each digit\n",
    "        self.output = nn.Linear(256, 10)\n",
    "        \n",
    "    def forward(self, x):\n",
    "        # Hidden layer with sigmoid activation\n",
    "        x = F.sigmoid(self.hidden(x))\n",
    "        # Output layer with softmax activation\n",
    "        x = F.softmax(self.output(x), dim=1)\n",
    "        \n",
    "        return x"
   ]
  },
  {
   "cell_type": "markdown",
   "metadata": {},
   "source": [
    "### Activation functions\n",
    "\n",
    "So far we've only been looking at the sigmoid activation function, but in general any function can be used as an activation function. The only requirement is that for a network to approximate a non-linear function, the activation functions must be non-linear. Here are a few more examples of common activation functions: Tanh (hyperbolic tangent), and ReLU (rectified linear unit).\n",
    "\n",
    "<img src=\"assets/activation.png\" width=700px>\n",
    "\n",
    "In practice, the ReLU function is used almost exclusively as the activation function for hidden layers."
   ]
  },
  {
   "cell_type": "markdown",
   "metadata": {},
   "source": [
    "### Your Turn to Build a Network\n",
    "\n",
    "<img src=\"assets/mlp_mnist.png\" width=600px>\n",
    "\n",
    "> **Exercise:** Create a network with 784 input units, a hidden layer with 128 units and a ReLU activation, then a hidden layer with 64 units and a ReLU activation, and finally an output layer with a softmax activation as shown above. You can use a ReLU activation with the `nn.ReLU` module or `F.relu` function.\n",
    "\n",
    "It's good practice to name your layers by their type of network, for instance 'fc' to represent a fully-connected layer. As you code your solution, use `fc1`, `fc2`, and `fc3` as your layer names."
   ]
  },
  {
   "cell_type": "code",
   "execution_count": 11,
   "metadata": {
    "scrolled": true
   },
   "outputs": [],
   "source": [
    "## Your solution here\n",
    "import torch.nn.functional as F\n",
    "\n",
    "class MyNetwork(nn.Module):\n",
    "    def __init__(self):\n",
    "        super().__init__()\n",
    "        # Inputs to hidden layer linear transformation\n",
    "        self.fc1 = nn.Linear(784, 128)\n",
    "        self.fc2 = nn.Linear(128, 64)\n",
    "        self.fc3 = nn.Linear(64, 10)\n",
    "        \n",
    "    def forward(self, x):\n",
    "        # Hidden layer with sigmoid activation\n",
    "        x = F.relu(self.fc1(x))\n",
    "        x = F.relu(self.fc2(x))\n",
    "        x = F.softmax(self.fc3(x),dim=1)\n",
    "        # Output layer with softmax activation\n",
    "        return x\n",
    "\n",
    "\n",
    "model = MyNetwork()\n"
   ]
  },
  {
   "cell_type": "markdown",
   "metadata": {},
   "source": [
    "### Initializing weights and biases\n",
    "\n",
    "The weights and such are automatically initialized for you, but it's possible to customize how they are initialized. The weights and biases are tensors attached to the layer you defined, you can get them with `model.fc1.weight` for instance."
   ]
  },
  {
   "cell_type": "code",
   "execution_count": 12,
   "metadata": {},
   "outputs": [
    {
     "name": "stdout",
     "output_type": "stream",
     "text": [
      "Parameter containing:\n",
      "tensor([[ 0.0019,  0.0005, -0.0266,  ...,  0.0021,  0.0257,  0.0180],\n",
      "        [-0.0291,  0.0194,  0.0033,  ..., -0.0058, -0.0152, -0.0074],\n",
      "        [-0.0255,  0.0141, -0.0173,  ..., -0.0066,  0.0269,  0.0035],\n",
      "        ...,\n",
      "        [-0.0114,  0.0222,  0.0197,  ...,  0.0243,  0.0304,  0.0111],\n",
      "        [-0.0090, -0.0345, -0.0355,  ..., -0.0130,  0.0239, -0.0339],\n",
      "        [ 0.0088,  0.0205,  0.0327,  ..., -0.0091,  0.0315,  0.0055]],\n",
      "       requires_grad=True)\n",
      "Parameter containing:\n",
      "tensor([-0.0006, -0.0100,  0.0276, -0.0134, -0.0039,  0.0245, -0.0207,  0.0039,\n",
      "        -0.0155,  0.0004,  0.0028, -0.0305,  0.0163,  0.0109, -0.0037,  0.0187,\n",
      "         0.0095,  0.0269, -0.0096, -0.0019, -0.0355,  0.0344,  0.0178, -0.0305,\n",
      "        -0.0307, -0.0113, -0.0355,  0.0336, -0.0058, -0.0032,  0.0309,  0.0017,\n",
      "         0.0203, -0.0101,  0.0036, -0.0251, -0.0256, -0.0087,  0.0092, -0.0355,\n",
      "         0.0127, -0.0146, -0.0254, -0.0126, -0.0269,  0.0212,  0.0112, -0.0237,\n",
      "         0.0278,  0.0016, -0.0003,  0.0029, -0.0072,  0.0156,  0.0173, -0.0053,\n",
      "         0.0148,  0.0055,  0.0167, -0.0079,  0.0071,  0.0239,  0.0309,  0.0081,\n",
      "         0.0260,  0.0178, -0.0177,  0.0286, -0.0192,  0.0316, -0.0331, -0.0061,\n",
      "        -0.0203, -0.0219,  0.0069, -0.0191,  0.0133, -0.0211,  0.0017,  0.0135,\n",
      "        -0.0236, -0.0094,  0.0270,  0.0357, -0.0104,  0.0139,  0.0025, -0.0290,\n",
      "         0.0053, -0.0285,  0.0193, -0.0171,  0.0198,  0.0064,  0.0045,  0.0033,\n",
      "        -0.0205, -0.0122,  0.0348, -0.0299, -0.0246,  0.0097, -0.0101, -0.0285,\n",
      "         0.0185,  0.0236,  0.0244, -0.0269, -0.0338, -0.0353,  0.0282,  0.0088,\n",
      "        -0.0025, -0.0083, -0.0050,  0.0320, -0.0272, -0.0181,  0.0189,  0.0148,\n",
      "        -0.0171, -0.0174, -0.0209, -0.0208, -0.0314, -0.0042, -0.0348, -0.0181],\n",
      "       requires_grad=True)\n"
     ]
    }
   ],
   "source": [
    "print(model.fc1.weight)\n",
    "print(model.fc1.bias)"
   ]
  },
  {
   "cell_type": "markdown",
   "metadata": {},
   "source": [
    "For custom initialization, we want to modify these tensors in place. These are actually autograd *Variables*, so we need to get back the actual tensors with `model.fc1.weight.data`. Once we have the tensors, we can fill them with zeros (for biases) or random normal values."
   ]
  },
  {
   "cell_type": "code",
   "execution_count": 13,
   "metadata": {},
   "outputs": [
    {
     "data": {
      "text/plain": [
       "tensor([0., 0., 0., 0., 0., 0., 0., 0., 0., 0., 0., 0., 0., 0., 0., 0., 0., 0., 0., 0., 0., 0., 0., 0.,\n",
       "        0., 0., 0., 0., 0., 0., 0., 0., 0., 0., 0., 0., 0., 0., 0., 0., 0., 0., 0., 0., 0., 0., 0., 0.,\n",
       "        0., 0., 0., 0., 0., 0., 0., 0., 0., 0., 0., 0., 0., 0., 0., 0., 0., 0., 0., 0., 0., 0., 0., 0.,\n",
       "        0., 0., 0., 0., 0., 0., 0., 0., 0., 0., 0., 0., 0., 0., 0., 0., 0., 0., 0., 0., 0., 0., 0., 0.,\n",
       "        0., 0., 0., 0., 0., 0., 0., 0., 0., 0., 0., 0., 0., 0., 0., 0., 0., 0., 0., 0., 0., 0., 0., 0.,\n",
       "        0., 0., 0., 0., 0., 0., 0., 0.])"
      ]
     },
     "execution_count": 13,
     "metadata": {},
     "output_type": "execute_result"
    }
   ],
   "source": [
    "# Set biases to all zeros\n",
    "model.fc1.bias.data.fill_(0)"
   ]
  },
  {
   "cell_type": "code",
   "execution_count": 14,
   "metadata": {},
   "outputs": [
    {
     "data": {
      "text/plain": [
       "tensor([[ 0.0013, -0.0097, -0.0107,  ...,  0.0088, -0.0066,  0.0040],\n",
       "        [-0.0093,  0.0021,  0.0107,  ...,  0.0003,  0.0007,  0.0027],\n",
       "        [ 0.0085, -0.0038,  0.0023,  ..., -0.0218, -0.0126,  0.0017],\n",
       "        ...,\n",
       "        [ 0.0034, -0.0230,  0.0046,  ...,  0.0049, -0.0056,  0.0109],\n",
       "        [-0.0020,  0.0027, -0.0104,  ...,  0.0089, -0.0030,  0.0080],\n",
       "        [ 0.0027,  0.0078, -0.0043,  ..., -0.0089,  0.0020,  0.0119]])"
      ]
     },
     "execution_count": 14,
     "metadata": {},
     "output_type": "execute_result"
    }
   ],
   "source": [
    "# sample from random normal with standard dev = 0.01\n",
    "model.fc1.weight.data.normal_(std=0.01)"
   ]
  },
  {
   "cell_type": "markdown",
   "metadata": {},
   "source": [
    "### Forward pass\n",
    "\n",
    "Now that we have a network, let's see what happens when we pass in an image."
   ]
  },
  {
   "cell_type": "code",
   "execution_count": 15,
   "metadata": {},
   "outputs": [
    {
     "data": {
      "image/png": "[encoded data removed]",
      "text/plain": [
       "<Figure size 432x648 with 2 Axes>"
      ]
     },
     "metadata": {
      "image/png": {
       "height": 235,
       "width": 424
      },
      "needs_background": "light"
     },
     "output_type": "display_data"
    }
   ],
   "source": [
    "# Grab some data \n",
    "dataiter = iter(trainloader)\n",
    "images, labels = dataiter.next()\n",
    "\n",
    "# Resize images into a 1D vector, new shape is (batch size, color channels, image pixels) \n",
    "images.resize_(64, 1, 784)\n",
    "# or images.resize_(images.shape[0], 1, 784) to automatically get batch size\n",
    "\n",
    "# Forward pass through the network\n",
    "img_idx = 0\n",
    "ps = model.forward(images[img_idx,:])\n",
    "\n",
    "img = images[img_idx]\n",
    "helper.view_classify(img.view(1, 28, 28), ps)"
   ]
  },
  {
   "cell_type": "markdown",
   "metadata": {},
   "source": [
    "As you can see above, our network has basically no idea what this digit is. It's because we haven't trained it yet, all the weights are random!\n",
    "\n",
    "### Using `nn.Sequential`\n",
    "\n",
    "PyTorch provides a convenient way to build networks like this where a tensor is passed sequentially through operations, `nn.Sequential` ([documentation](https://pytorch.org/docs/master/nn.html#torch.nn.Sequential)). Using this to build the equivalent network:"
   ]
  },
  {
   "cell_type": "code",
   "execution_count": 16,
   "metadata": {},
   "outputs": [
    {
     "name": "stdout",
     "output_type": "stream",
     "text": [
      "Sequential(\n",
      "  (0): Linear(in_features=784, out_features=128, bias=True)\n",
      "  (1): ReLU()\n",
      "  (2): Linear(in_features=128, out_features=64, bias=True)\n",
      "  (3): ReLU()\n",
      "  (4): Linear(in_features=64, out_features=10, bias=True)\n",
      "  (5): Softmax(dim=1)\n",
      ")\n"
     ]
    },
    {
     "data": {
      "image/png": "[encoded data removed]",
      "text/plain": [
       "<Figure size 432x648 with 2 Axes>"
      ]
     },
     "metadata": {
      "image/png": {
       "height": 235,
       "width": 424
      },
      "needs_background": "light"
     },
     "output_type": "display_data"
    }
   ],
   "source": [
    "# Hyperparameters for our network\n",
    "input_size = 784\n",
    "hidden_sizes = [128, 64]\n",
    "output_size = 10\n",
    "\n",
    "# Build a feed-forward network\n",
    "model = nn.Sequential(nn.Linear(input_size, hidden_sizes[0]),\n",
    "                      nn.ReLU(),\n",
    "                      nn.Linear(hidden_sizes[0], hidden_sizes[1]),\n",
    "                      nn.ReLU(),\n",
    "                      nn.Linear(hidden_sizes[1], output_size),\n",
    "                      nn.Softmax(dim=1))\n",
    "print(model)\n",
    "\n",
    "# Forward pass through the network and display output\n",
    "images, labels = next(iter(trainloader))\n",
    "images.resize_(images.shape[0], 1, 784)\n",
    "ps = model.forward(images[0,:])\n",
    "helper.view_classify(images[0].view(1, 28, 28), ps)"
   ]
  },
  {
   "cell_type": "markdown",
   "metadata": {},
   "source": [
    "Here our model is the same as before: 784 input units, a hidden layer with 128 units, ReLU activation, 64 unit hidden layer, another ReLU, then the output layer with 10 units, and the softmax output.\n",
    "\n",
    "The operations are available by passing in the appropriate index. For example, if you want to get first Linear operation and look at the weights, you'd use `model[0]`."
   ]
  },
  {
   "cell_type": "code",
   "execution_count": 17,
   "metadata": {},
   "outputs": [
    {
     "name": "stdout",
     "output_type": "stream",
     "text": [
      "Linear(in_features=784, out_features=128, bias=True)\n"
     ]
    },
    {
     "data": {
      "text/plain": [
       "Parameter containing:\n",
       "tensor([[-2.9862e-02, -1.2659e-02, -2.5101e-02,  ...,  3.0596e-02,\n",
       "         -5.9958e-04,  2.2081e-02],\n",
       "        [-9.4624e-03, -7.8931e-03, -2.8510e-02,  ..., -2.0721e-02,\n",
       "         -2.2098e-03, -1.5894e-02],\n",
       "        [-2.8786e-02,  1.1147e-02,  1.9667e-02,  ...,  1.0853e-02,\n",
       "          6.3184e-04, -5.0848e-03],\n",
       "        ...,\n",
       "        [ 1.9110e-02,  3.5534e-02, -2.1601e-02,  ..., -2.2419e-02,\n",
       "         -1.5546e-05, -8.2923e-03],\n",
       "        [-2.9006e-02, -5.3848e-04,  1.9616e-02,  ..., -1.4155e-02,\n",
       "          1.3010e-02, -2.3179e-02],\n",
       "        [ 1.6492e-02,  9.2524e-03, -1.6637e-02,  ...,  2.3435e-02,\n",
       "          2.2162e-02,  2.0295e-02]], requires_grad=True)"
      ]
     },
     "execution_count": 17,
     "metadata": {},
     "output_type": "execute_result"
    }
   ],
   "source": [
    "print(model[0])\n",
    "model[0].weight"
   ]
  },
  {
   "cell_type": "markdown",
   "metadata": {},
   "source": [
    "You can also pass in an `OrderedDict` to name the individual layers and operations, instead of using incremental integers. Note that dictionary keys must be unique, so _each operation must have a different name_."
   ]
  },
  {
   "cell_type": "code",
   "execution_count": 18,
   "metadata": {},
   "outputs": [
    {
     "data": {
      "text/plain": [
       "Sequential(\n",
       "  (fc1): Linear(in_features=784, out_features=128, bias=True)\n",
       "  (relu1): ReLU()\n",
       "  (fc2): Linear(in_features=128, out_features=64, bias=True)\n",
       "  (relu2): ReLU()\n",
       "  (output): Linear(in_features=64, out_features=10, bias=True)\n",
       "  (softmax): Softmax(dim=1)\n",
       ")"
      ]
     },
     "execution_count": 18,
     "metadata": {},
     "output_type": "execute_result"
    }
   ],
   "source": [
    "from collections import OrderedDict\n",
    "model = nn.Sequential(OrderedDict([\n",
    "                      ('fc1', nn.Linear(input_size, hidden_sizes[0])),\n",
    "                      ('relu1', nn.ReLU()),\n",
    "                      ('fc2', nn.Linear(hidden_sizes[0], hidden_sizes[1])),\n",
    "                      ('relu2', nn.ReLU()),\n",
    "                      ('output', nn.Linear(hidden_sizes[1], output_size)),\n",
    "                      ('softmax', nn.Softmax(dim=1))]))\n",
    "model"
   ]
  },
  {
   "cell_type": "markdown",
   "metadata": {},
   "source": [
    "Now you can access layers either by integer or the name"
   ]
  },
  {
   "cell_type": "code",
   "execution_count": 19,
   "metadata": {},
   "outputs": [
    {
     "name": "stdout",
     "output_type": "stream",
     "text": [
      "Linear(in_features=784, out_features=128, bias=True)\n",
      "Linear(in_features=784, out_features=128, bias=True)\n"
     ]
    }
   ],
   "source": [
    "print(model[0])\n",
    "print(model.fc1)"
   ]
  },
  {
   "cell_type": "markdown",
   "metadata": {},
   "source": [
    "In the next notebook, we'll see how we can train a neural network to accuractly predict the numbers appearing in the MNIST images."
   ]
  }
 ],
 "metadata": {
  "kernelspec": {
   "display_name": "Python 3",
   "language": "python",
   "name": "python3"
  },
  "language_info": {
   "codemirror_mode": {
    "name": "ipython",
    "version": 3
   },
   "file_extension": ".py",
   "mimetype": "text/x-python",
   "name": "python",
   "nbconvert_exporter": "python",
   "pygments_lexer": "ipython3",
   "version": "3.6.7"
  }
 },
 "nbformat": 4,
 "nbformat_minor": 4
}
