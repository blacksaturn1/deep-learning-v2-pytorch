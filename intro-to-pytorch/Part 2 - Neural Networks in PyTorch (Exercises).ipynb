{
 "cells": [
  {
   "cell_type": "markdown",
   "metadata": {},
   "source": [
    "# Neural networks with PyTorch\n",
    "\n",
    "Deep learning networks tend to be massive with dozens or hundreds of layers, that's where the term \"deep\" comes from. You can build one of these deep networks using only weight matrices as we did in the previous notebook, but in general it's very cumbersome and difficult to implement. PyTorch has a nice module `nn` that provides a nice way to efficiently build large neural networks."
   ]
  },
  {
   "cell_type": "code",
   "execution_count": 1,
   "metadata": {},
   "outputs": [],
   "source": [
    "# Import necessary packages\n",
    "\n",
    "%matplotlib inline\n",
    "%config InlineBackend.figure_format = 'retina'\n",
    "\n",
    "import numpy as np\n",
    "import torch\n",
    "\n",
    "import helper\n",
    "\n",
    "import matplotlib.pyplot as plt"
   ]
  },
  {
   "cell_type": "markdown",
   "metadata": {},
   "source": [
    "\n",
    "Now we're going to build a larger network that can solve a (formerly) difficult problem, identifying text in an image. Here we'll use the MNIST dataset which consists of greyscale handwritten digits. Each image is 28x28 pixels, you can see a sample below\n",
    "\n",
    "<img src='assets/mnist.png'>\n",
    "\n",
    "Our goal is to build a neural network that can take one of these images and predict the digit in the image.\n",
    "\n",
    "First up, we need to get our dataset. This is provided through the `torchvision` package. The code below will download the MNIST dataset, then create training and test datasets for us. Don't worry too much about the details here, you'll learn more about this later."
   ]
  },
  {
   "cell_type": "code",
   "execution_count": 2,
   "metadata": {},
   "outputs": [
    {
     "name": "stderr",
     "output_type": "stream",
     "text": [
      "3.1%"
     ]
    },
    {
     "name": "stdout",
     "output_type": "stream",
     "text": [
      "Downloading http://yann.lecun.com/exdb/mnist/train-images-idx3-ubyte.gz to /root/.pytorch/MNIST_data/MNIST/raw/train-images-idx3-ubyte.gz\n"
     ]
    },
    {
     "name": "stderr",
     "output_type": "stream",
     "text": [
      "100.1%"
     ]
    },
    {
     "name": "stdout",
     "output_type": "stream",
     "text": [
      "Extracting /root/.pytorch/MNIST_data/MNIST/raw/train-images-idx3-ubyte.gz to /root/.pytorch/MNIST_data/MNIST/raw\n"
     ]
    },
    {
     "name": "stderr",
     "output_type": "stream",
     "text": [
      "17.9%%"
     ]
    },
    {
     "name": "stdout",
     "output_type": "stream",
     "text": [
      "Downloading http://yann.lecun.com/exdb/mnist/train-labels-idx1-ubyte.gz to /root/.pytorch/MNIST_data/MNIST/raw/train-labels-idx1-ubyte.gz\n",
      "Extracting /root/.pytorch/MNIST_data/MNIST/raw/train-labels-idx1-ubyte.gz to /root/.pytorch/MNIST_data/MNIST/raw\n",
      "Downloading http://yann.lecun.com/exdb/mnist/t10k-images-idx3-ubyte.gz to /root/.pytorch/MNIST_data/MNIST/raw/t10k-images-idx3-ubyte.gz\n"
     ]
    },
    {
     "name": "stderr",
     "output_type": "stream",
     "text": [
      "180.4%"
     ]
    },
    {
     "name": "stdout",
     "output_type": "stream",
     "text": [
      "Extracting /root/.pytorch/MNIST_data/MNIST/raw/t10k-images-idx3-ubyte.gz to /root/.pytorch/MNIST_data/MNIST/raw\n",
      "Downloading http://yann.lecun.com/exdb/mnist/t10k-labels-idx1-ubyte.gz to /root/.pytorch/MNIST_data/MNIST/raw/t10k-labels-idx1-ubyte.gz\n",
      "Extracting /root/.pytorch/MNIST_data/MNIST/raw/t10k-labels-idx1-ubyte.gz to /root/.pytorch/MNIST_data/MNIST/raw\n",
      "Processing...\n",
      "Done!\n"
     ]
    }
   ],
   "source": [
    "### Run this cell\n",
    "\n",
    "from torchvision import datasets, transforms\n",
    "\n",
    "# Define a transform to normalize the data\n",
    "transform = transforms.Compose([transforms.ToTensor(),\n",
    "                              transforms.Normalize((0.5,), (0.5,)),\n",
    "                              ])\n",
    "\n",
    "# Download and load the training data\n",
    "trainset = datasets.MNIST('~/.pytorch/MNIST_data/', download=True, train=True, transform=transform)\n",
    "trainloader = torch.utils.data.DataLoader(trainset, batch_size=64, shuffle=True)"
   ]
  },
  {
   "cell_type": "markdown",
   "metadata": {},
   "source": [
    "We have the training data loaded into `trainloader` and we make that an iterator with `iter(trainloader)`. Later, we'll use this to loop through the dataset for training, like\n",
    "\n",
    "```python\n",
    "for image, label in trainloader:\n",
    "    ## do things with images and labels\n",
    "```\n",
    "\n",
    "You'll notice I created the `trainloader` with a batch size of 64, and `shuffle=True`. The batch size is the number of images we get in one iteration from the data loader and pass through our network, often called a *batch*. And `shuffle=True` tells it to shuffle the dataset every time we start going through the data loader again. But here I'm just grabbing the first batch so we can check out the data. We can see below that `images` is just a tensor with size `(64, 1, 28, 28)`. So, 64 images per batch, 1 color channel, and 28x28 images."
   ]
  },
  {
   "cell_type": "code",
   "execution_count": 3,
   "metadata": {},
   "outputs": [
    {
     "name": "stdout",
     "output_type": "stream",
     "text": [
      "<class 'torch.Tensor'>\n",
      "torch.Size([64, 1, 28, 28])\n",
      "torch.Size([64])\n"
     ]
    }
   ],
   "source": [
    "dataiter = iter(trainloader)\n",
    "images, labels = dataiter.next()\n",
    "print(type(images))\n",
    "print(images.shape)\n",
    "print(labels.shape)"
   ]
  },
  {
   "cell_type": "markdown",
   "metadata": {},
   "source": [
    "This is what one of the images looks like. "
   ]
  },
  {
   "cell_type": "code",
   "execution_count": 4,
   "metadata": {},
   "outputs": [
    {
     "data": {
      "image/png": "[encoded data removed]",
      "text/plain": [
       "<Figure size 432x288 with 1 Axes>"
      ]
     },
     "metadata": {
      "image/png": {
       "height": 248,
       "width": 251
      },
      "needs_background": "light"
     },
     "output_type": "display_data"
    }
   ],
   "source": [
    "plt.imshow(images[1].numpy().squeeze(), cmap='Greys_r');"
   ]
  },
  {
   "cell_type": "markdown",
   "metadata": {},
   "source": [
    "First, let's try to build a simple network for this dataset using weight matrices and matrix multiplications. Then, we'll see how to do it using PyTorch's `nn` module which provides a much more convenient and powerful method for defining network architectures.\n",
    "\n",
    "The networks you've seen so far are called *fully-connected* or *dense* networks. Each unit in one layer is connected to each unit in the next layer. In fully-connected networks, the input to each layer must be a one-dimensional vector (which can be stacked into a 2D tensor as a batch of multiple examples). However, our images are 28x28 2D tensors, so we need to convert them into 1D vectors. Thinking about sizes, we need to convert the batch of images with shape `(64, 1, 28, 28)` to a have a shape of `(64, 784)`, 784 is 28 times 28. This is typically called *flattening*, we flattened the 2D images into 1D vectors.\n",
    "\n",
    "Previously you built a network with one output unit. Here we need 10 output units, one for each digit. We want our network to predict the digit shown in an image, so what we'll do is calculate probabilities that the image is of any one digit or class. This ends up being a discrete probability distribution over the classes (digits) that tells us the most likely class for the image. That means we need 10 output units for the 10 classes (digits). We'll see how to convert the network output into a probability distribution next.\n",
    "\n",
    "> **Exercise:** Flatten the batch of images `images`. Then build a multi-layer network with 784 input units, 256 hidden units, and 10 output units using random tensors for the weights and biases. For now, use a sigmoid activation for the hidden layer. Leave the output layer without an activation, we'll add one that gives us a probability distribution next."
   ]
  },
  {
   "cell_type": "code",
   "execution_count": 19,
   "metadata": {},
   "outputs": [
    {
     "name": "stdout",
     "output_type": "stream",
     "text": [
      "tensor([[-1.5997e+01, -8.8496e+00,  4.4268e+00, -1.3311e+01,  4.7901e+00,\n",
      "          9.5125e+00, -2.9110e+00, -1.2249e+00, -8.1012e+00, -1.2930e+00],\n",
      "        [-9.6633e+00,  4.7055e+00, -2.7571e+00, -8.0928e+00,  9.6763e+00,\n",
      "         -2.4445e+00,  1.4575e-01, -5.9138e+00, -1.5824e+01, -5.9621e+00],\n",
      "        [-1.4887e+01, -7.5080e+00, -9.0592e-01, -8.5433e+00,  1.2256e+01,\n",
      "          1.6232e+01, -2.3617e+00, -1.4664e+00, -1.7018e+01,  2.1386e+00],\n",
      "        [-6.5115e+00, -9.3258e+00, -6.4848e-01, -7.5214e+00, -4.2165e+00,\n",
      "          1.7878e+01,  2.5222e-01, -3.8881e+00, -1.2286e+01, -9.8351e+00],\n",
      "        [-1.1994e+01,  3.1403e+00,  4.7987e+00, -1.0288e+01,  1.0627e+01,\n",
      "          1.9754e+00, -6.0891e+00, -1.7977e+00, -1.4138e+01, -6.2498e+00],\n",
      "        [-1.4684e+01, -1.3961e+01, -3.6689e+00, -1.2137e+01,  5.8152e+00,\n",
      "          9.6672e+00, -9.8897e+00,  3.4676e+00, -1.8553e+01, -1.9639e+00],\n",
      "        [-8.7919e+00, -1.3450e+01, -3.0738e-02, -1.1777e+01, -2.3510e+00,\n",
      "          1.5221e+01, -2.3880e-02, -4.0810e+00, -1.5763e+01,  6.8281e+00],\n",
      "        [-1.1796e+01,  4.0886e+00, -2.7129e+00, -5.6437e+00, -4.1891e+00,\n",
      "          2.0034e+00, -1.2923e+01,  5.2595e+00, -1.4990e+01, -3.8199e+00],\n",
      "        [-1.6721e+01, -2.5373e+00,  2.3473e+00, -6.7393e+00,  7.6539e+00,\n",
      "          2.3671e+00,  1.5113e+00,  3.8009e+00, -1.5455e+01, -1.5257e+00],\n",
      "        [-8.3192e+00, -1.2774e+01, -4.4132e+00, -7.8903e+00,  7.8101e+00,\n",
      "          6.6621e+00, -5.9629e+00, -5.2403e+00, -1.5369e+01,  1.0493e+00],\n",
      "        [-1.4697e+01, -8.0501e+00,  2.9210e+00, -1.9716e+00,  1.4407e+01,\n",
      "          1.5829e+01, -5.1132e+00,  2.5104e+00, -9.4474e+00, -1.0240e+00],\n",
      "        [-1.7117e+01, -7.1724e+00,  6.4142e+00, -8.3009e+00,  1.2857e+01,\n",
      "          6.7671e+00,  8.3435e+00,  7.4794e+00, -1.2816e+01, -5.1243e-01],\n",
      "        [-1.7452e+01, -2.1315e+00, -7.5892e+00, -7.5188e+00, -1.1666e+00,\n",
      "          2.4202e+00, -1.5317e+01,  4.1251e+00, -8.4185e+00, -4.2888e+00],\n",
      "        [-1.3051e+01, -1.3188e+01, -4.8384e-01, -8.3451e+00,  5.3380e+00,\n",
      "          8.4065e+00, -8.4173e+00, -3.8892e+00, -1.6853e+01, -1.3152e+01],\n",
      "        [-1.6196e+01, -6.3060e+00,  5.9330e-01, -8.3929e+00,  5.4125e+00,\n",
      "          1.0157e+01, -6.3257e+00,  1.4229e+00, -1.1662e+01, -3.3468e+00],\n",
      "        [-2.5231e+01, -1.3532e+00,  2.5792e+00, -2.8730e+00,  1.8530e+01,\n",
      "          1.2293e+01, -9.8596e+00,  4.1988e+00, -1.1984e+01, -4.0753e+00],\n",
      "        [-1.8113e+01, -6.3582e+00, -7.2180e+00, -1.5299e+01,  5.6336e+00,\n",
      "          1.1118e+01, -7.9656e+00, -5.7775e-02, -1.5975e+01,  2.5889e+00],\n",
      "        [-9.8472e+00, -3.5035e+00, -6.4770e-01, -1.3683e+01,  1.9838e+00,\n",
      "          1.4095e+01, -1.3208e+01, -5.7829e+00, -7.5609e+00,  9.5065e+00],\n",
      "        [-1.3654e+01, -1.8417e+01, -1.1400e+01, -3.5352e+00,  5.0937e+00,\n",
      "          1.3441e+01, -8.3281e+00, -4.3096e+00, -1.5423e+01,  3.8189e-01],\n",
      "        [-2.1202e+01,  1.6432e+00, -5.6777e+00, -1.5055e+01,  2.6761e+00,\n",
      "          5.5758e+00, -1.4674e+01,  6.0455e+00, -9.8560e+00, -1.4625e+00],\n",
      "        [-1.0195e+01, -1.0947e+01,  5.2238e+00, -7.2978e+00,  2.5750e+00,\n",
      "          8.8258e+00, -5.5365e+00, -4.0456e+00, -9.0978e+00,  5.3341e+00],\n",
      "        [-8.9923e+00, -4.3163e+00, -1.3741e+01, -2.3178e+01,  1.3547e+00,\n",
      "          1.1573e+01, -3.1748e+00,  6.6939e+00, -1.4569e+01, -1.2742e+00],\n",
      "        [-2.2366e+01, -5.8345e+00,  4.0831e+00, -1.6422e+01,  7.8900e+00,\n",
      "          2.3979e+00, -5.9237e+00,  1.2249e+01, -8.2677e+00,  1.6522e-01],\n",
      "        [-8.9272e+00, -3.6610e+00,  7.9487e+00, -5.2450e+00,  1.4220e+01,\n",
      "          8.1852e+00, -4.3956e+00, -2.1420e+00, -8.6982e+00, -1.0173e+01],\n",
      "        [-1.5929e+01,  1.3043e+01,  8.4221e+00, -7.0013e+00,  1.0255e+01,\n",
      "         -2.7709e+00, -1.3087e+01, -5.8246e+00, -1.2213e+01, -7.8772e+00],\n",
      "        [-1.9942e+01, -2.5323e+00, -1.0854e+01, -8.6370e+00,  6.7293e+00,\n",
      "          7.0287e-01, -3.7408e+00,  4.7750e-01, -1.0524e+01, -1.4520e+01],\n",
      "        [-1.3771e+01, -4.3053e+00,  6.7655e+00, -9.7416e+00,  5.0929e+00,\n",
      "          4.3022e+00,  2.3617e+00, -1.8226e+00, -2.1542e+01, -5.3268e+00],\n",
      "        [-3.5599e+00, -1.4234e+01, -5.7318e+00, -1.5391e+01,  7.1966e+00,\n",
      "          1.1392e+01, -9.7659e+00,  6.1039e+00, -3.3609e+00, -8.9807e+00],\n",
      "        [-2.3493e+01, -2.8905e+00,  1.3491e+00, -3.3127e+00,  1.8251e+01,\n",
      "         -2.0453e+00, -1.4396e+00,  6.6556e-01, -5.6890e+00, -5.6543e+00],\n",
      "        [-1.9631e+01, -3.6208e+00, -1.7474e+00, -1.4577e+01,  6.2252e+00,\n",
      "         -1.4865e+00,  1.0406e+00,  1.2214e+00, -1.2109e+01, -7.9628e+00],\n",
      "        [-6.6781e+00, -5.4631e+00,  5.9731e+00, -1.0252e+01,  1.2262e+01,\n",
      "          6.1924e+00,  1.2658e+00, -2.1124e+00, -1.1201e+01, -8.7134e+00],\n",
      "        [-1.0983e+01,  1.3619e+00,  1.1460e+01, -3.1248e+00,  1.0054e+01,\n",
      "          1.0130e+00, -5.8286e+00, -1.3581e+00, -5.9008e+00, -3.2072e+00],\n",
      "        [-1.6865e+01, -3.9779e+00,  6.9445e+00, -7.4772e-01,  7.5004e+00,\n",
      "          3.7952e+00, -9.9026e+00, -9.1205e-01, -1.1227e+01,  4.4034e+00],\n",
      "        [-1.4123e+01, -3.4927e+00, -9.5758e+00, -2.4990e+01,  7.3536e+00,\n",
      "          1.4022e+01, -1.7328e+00,  4.1935e+00, -1.0352e+01, -8.9519e+00],\n",
      "        [-1.2209e+01, -1.3537e+01, -8.9196e+00, -4.9548e+00,  5.3313e+00,\n",
      "          4.6227e+00, -2.8850e+00,  3.9461e+00, -1.6535e+01, -1.5200e+00],\n",
      "        [-1.2662e+01,  9.5888e+00,  5.9230e+00, -3.9111e+00, -1.7058e+00,\n",
      "          7.5219e+00, -2.0516e+01, -4.5186e+00, -7.1328e+00,  7.1359e+00],\n",
      "        [-2.3209e+01, -1.4591e+01, -7.9342e+00, -7.9094e+00,  1.5061e+01,\n",
      "          4.4005e+00, -1.0698e-01,  1.0203e+01, -5.9418e+00, -6.3573e+00],\n",
      "        [-5.8466e+00, -2.7850e+00,  3.1472e+00, -1.7881e+01,  1.0350e+01,\n",
      "          3.9740e+00, -6.8807e+00,  1.1702e+01, -6.3489e+00, -1.0925e+01],\n",
      "        [-1.2534e+01, -7.7231e+00, -1.3983e+00, -4.7502e+00,  1.1734e+01,\n",
      "         -4.0947e+00, -7.9209e+00, -1.7525e+00, -1.1136e+01, -1.1112e+01],\n",
      "        [-1.9133e+01, -4.5450e-01,  1.3634e+00, -1.2846e+00,  7.0587e+00,\n",
      "          8.7271e+00, -7.6417e+00, -1.1748e+01, -1.0344e+01, -5.1770e+00],\n",
      "        [-8.1948e+00,  8.9595e+00,  2.8421e+00, -1.1828e+01,  4.5412e+00,\n",
      "          5.2185e-01, -1.1764e+01, -9.3198e+00, -1.3743e+01,  3.1630e+00],\n",
      "        [-2.0125e+01, -7.1189e+00, -7.3116e+00, -1.6756e+01,  1.7637e+00,\n",
      "          8.4570e+00, -3.7101e+00, -9.0669e+00, -1.7965e+01, -1.7272e+00],\n",
      "        [-9.0716e+00, -1.4667e+01,  6.6137e+00, -7.0895e+00,  2.8395e+00,\n",
      "         -6.9685e-01, -8.0246e+00,  3.2880e+00, -1.3929e+01, -1.5591e+01],\n",
      "        [-1.4093e+01,  2.3738e-01,  2.0856e+00, -8.2781e+00,  9.7631e+00,\n",
      "          1.0952e+01, -1.2692e+01, -1.1900e+00, -5.4934e+00, -6.4020e-01],\n",
      "        [-2.0471e+01, -1.6742e+00,  5.9753e-01, -1.8456e+01,  1.0996e+01,\n",
      "          1.0159e+01, -9.9530e+00, -5.6095e+00, -1.2153e+01, -4.7559e+00],\n",
      "        [-1.1599e+01, -6.9261e+00,  3.5148e+00, -2.1121e+00,  1.0671e+01,\n",
      "          1.6820e+01,  1.2831e-01, -5.5358e+00, -1.8370e+01,  1.9979e+00],\n",
      "        [-1.0182e+01, -1.0816e+01,  4.0208e+00, -9.0089e+00,  5.3304e+00,\n",
      "          2.5651e+00, -3.7533e-01, -3.4488e+00, -1.3874e+01, -3.6213e+00],\n",
      "        [-1.6015e+01, -1.0739e+01, -1.3712e+01, -8.8813e+00,  3.5220e+00,\n",
      "          1.0821e+01, -1.2027e+01, -8.4760e+00, -1.3285e+01, -5.5216e+00],\n",
      "        [-2.2475e+01, -1.3723e+00, -4.1705e+00, -1.1011e+01,  5.5230e+00,\n",
      "          3.4894e+00, -2.3775e+01, -1.4943e+00, -1.5084e+01,  3.1894e+00],\n",
      "        [-1.2560e+01, -5.7736e+00,  1.3969e+00, -1.2443e+01,  3.5300e+00,\n",
      "          9.3546e+00, -7.2142e+00,  1.4563e+00, -1.1876e+01, -3.2443e+00],\n",
      "        [-2.0275e+01, -5.6478e+00, -4.0540e+00, -1.0706e+01,  9.7078e+00,\n",
      "          6.4587e+00, -6.1155e+00,  5.0916e+00, -1.3046e+01, -2.0705e-01],\n",
      "        [-1.5273e+01,  1.2250e+00,  5.7830e-01, -4.8232e-01,  4.3719e+00,\n",
      "          1.8921e+00, -2.4498e-01, -2.2390e+00, -1.3656e+01, -2.0361e+00],\n",
      "        [-8.0067e+00, -5.4002e+00,  1.3090e+01, -1.0093e+01,  4.1850e+00,\n",
      "          9.6728e+00, -8.9032e+00,  1.8239e+00, -1.0702e+01,  5.1890e+00],\n",
      "        [-1.0787e+01, -1.0961e+01,  2.2153e-01, -1.5830e+01,  2.7404e+00,\n",
      "          1.4487e+01, -8.4234e+00, -1.7526e-01, -1.2438e+01, -3.6601e+00],\n",
      "        [-1.5591e+01, -8.4643e+00, -5.6921e+00, -8.9219e+00,  1.2585e+01,\n",
      "          6.0839e+00, -1.3759e+00,  3.1985e+00, -1.4521e+01, -1.1866e+01],\n",
      "        [-1.7899e+01,  2.4652e+00,  3.8047e+00, -1.1581e+01, -1.7360e+00,\n",
      "          1.5498e+01, -7.1798e+00,  8.7321e+00, -1.5199e+01,  1.0241e+00],\n",
      "        [-1.3621e+01, -8.7945e+00, -3.1728e-01, -1.3375e+01,  8.0373e+00,\n",
      "          1.1945e+01, -5.1030e+00, -2.0814e+00, -9.7118e+00,  8.7677e-01],\n",
      "        [-1.5017e+01, -1.2183e+01,  1.7214e+00, -8.6479e+00, -2.7378e+00,\n",
      "          9.8626e+00, -1.6108e+00, -1.0597e+01, -1.0731e+01, -8.6466e+00],\n",
      "        [-6.9474e+00, -7.5586e+00, -1.0754e+01, -1.2098e+01,  1.3729e+01,\n",
      "          6.7748e+00, -6.2745e+00,  1.0499e+01, -1.2451e+01,  5.8907e+00],\n",
      "        [-1.0529e+00, -8.9081e-01, -1.3687e+00, -7.0923e+00,  3.4290e+00,\n",
      "          9.1276e+00, -1.9396e+00, -4.2570e+00, -1.5241e+01, -8.3103e+00],\n",
      "        [-1.2110e+01, -3.0608e-01,  9.1669e-01, -1.3904e+01,  6.7998e+00,\n",
      "          8.2729e+00,  4.5236e+00,  5.7956e+00, -1.4955e+01,  1.0963e+00],\n",
      "        [-1.8271e+01, -3.8104e+00, -2.8323e-01, -1.1120e+01,  9.7625e+00,\n",
      "          1.4452e+00, -9.1128e+00, -4.3837e-02, -1.6956e+01,  1.4774e+00],\n",
      "        [-1.2372e+01, -1.5926e+01,  7.8195e+00, -1.1804e+01,  1.2107e+01,\n",
      "          1.2361e+01, -2.9047e+00,  7.5391e+00, -1.4760e+01, -5.1276e+00],\n",
      "        [-1.1890e+01, -7.4284e+00,  1.2458e+00, -1.4379e+01,  3.6445e+00,\n",
      "          5.4374e+00, -1.5497e+00, -1.7571e+00, -1.0282e+01, -1.0506e-01]])\n"
     ]
    }
   ],
   "source": [
    "def activation(x):\n",
    "    \"\"\" Sigmoid activation function \n",
    "    \n",
    "        Arguments\n",
    "        ---------\n",
    "        x: torch.Tensor\n",
    "    \"\"\"\n",
    "    return 1/(1+torch.exp(-x))\n",
    "\n",
    "### Generate some data\n",
    "torch.manual_seed(7) # Set the random seed so things are predictable\n",
    "\n",
    "# Features are 3 random normal variables\n",
    "features = images.view(64,784)\n",
    "\n",
    "\n",
    "# Define the size of each layer in our network\n",
    "n_input = features.shape[1]     # Number of input units, must match number of input features\n",
    "n_hidden = 256                    # Number of hidden units \n",
    "n_output = 10                    # Number of output units\n",
    "\n",
    "# Weights for inputs to hidden layer\n",
    "W1 = torch.randn(n_input, n_hidden)\n",
    "# Weights for hidden layer to output layer\n",
    "W2 = torch.randn(n_hidden, n_output)\n",
    "\n",
    "# and bias terms for hidden and output layers\n",
    "B1 = torch.randn((1, n_hidden))\n",
    "B2 = torch.randn((1, n_output))\n",
    "## Your solution here\n",
    "h_h = activation(torch.mm(features, W1)+B1)\n",
    "#print(h_h)\n",
    "output_h = torch.mm(h_h, W2)+B2\n",
    "output_h\n",
    "out =output_h\n",
    "out.shape\n",
    "print(out)"
   ]
  },
  {
   "cell_type": "markdown",
   "metadata": {},
   "source": [
    "Now we have 10 outputs for our network. We want to pass in an image to our network and get out a probability distribution over the classes that tells us the likely class(es) the image belongs to. Something that looks like this:\n",
    "<img src='assets/image_distribution.png' width=500px>\n",
    "\n",
    "Here we see that the probability for each class is roughly the same. This is representing an untrained network, it hasn't seen any data yet so it just returns a uniform distribution with equal probabilities for each class.\n",
    "\n",
    "To calculate this probability distribution, we often use the [**softmax** function](https://en.wikipedia.org/wiki/Softmax_function). Mathematically this looks like\n",
    "\n",
    "$$\n",
    "\\Large \\sigma(x_i) = \\cfrac{e^{x_i}}{\\sum_k^K{e^{x_k}}}\n",
    "$$\n",
    "\n",
    "What this does is squish each input $x_i$ between 0 and 1 and normalizes the values to give you a proper probability distribution where the probabilites sum up to one.\n",
    "\n",
    "> **Exercise:** Implement a function `softmax` that performs the softmax calculation and returns probability distributions for each example in the batch. Note that you'll need to pay attention to the shapes when doing this. If you have a tensor `a` with shape `(64, 10)` and a tensor `b` with shape `(64,)`, doing `a/b` will give you an error because PyTorch will try to do the division across the columns (called broadcasting) but you'll get a size mismatch. The way to think about this is for each of the 64 examples, you only want to divide by one value, the sum in the denominator. So you need `b` to have a shape of `(64, 1)`. This way PyTorch will divide the 10 values in each row of `a` by the one value in each row of `b`. Pay attention to how you take the sum as well. You'll need to define the `dim` keyword in `torch.sum`. Setting `dim=0` takes the sum across the rows while `dim=1` takes the sum across the columns."
   ]
  },
  {
   "cell_type": "code",
   "execution_count": 49,
   "metadata": {},
   "outputs": [
    {
     "name": "stdout",
     "output_type": "stream",
     "text": [
      "tensor([ -9.6633,   4.7055,  -2.7571,  -8.0928,   9.6763,  -2.4445,   0.1458,\n",
      "         -5.9138, -15.8235,  -5.9621])\n",
      "torch.Size([64, 10])\n",
      "tensor([8.2211e-12, 1.0445e-08, 6.0920e-03, 1.2061e-10, 8.7606e-03, 9.8510e-01,\n",
      "        3.9627e-06, 2.1393e-05, 2.2077e-08, 1.9984e-05])\n",
      "tensor(1.)\n",
      "tensor([1.0000, 1.0000, 1.0000, 1.0000, 1.0000, 1.0000, 1.0000, 1.0000, 1.0000,\n",
      "        1.0000, 1.0000, 1.0000, 1.0000, 1.0000, 1.0000, 1.0000, 1.0000, 1.0000,\n",
      "        1.0000, 1.0000, 1.0000, 1.0000, 1.0000, 1.0000, 1.0000, 1.0000, 1.0000,\n",
      "        1.0000, 1.0000, 1.0000, 1.0000, 1.0000, 1.0000, 1.0000, 1.0000, 1.0000,\n",
      "        1.0000, 1.0000, 1.0000, 1.0000, 1.0000, 1.0000, 1.0000, 1.0000, 1.0000,\n",
      "        1.0000, 1.0000, 1.0000, 1.0000, 1.0000, 1.0000, 1.0000, 1.0000, 1.0000,\n",
      "        1.0000, 1.0000, 1.0000, 1.0000, 1.0000, 1.0000, 1.0000, 1.0000, 1.0000,\n",
      "        1.0000])\n"
     ]
    }
   ],
   "source": [
    "def softmax(x):\n",
    "    ## TODO: Implement the softmax function here\n",
    "    ss =  torch.sum( torch.exp(x),dim=1).view(-1, 1)\n",
    "    #print(ss)\n",
    "    soft = torch.exp(x)/ss\n",
    "    return soft\n",
    "\n",
    "print(out[1])\n",
    "# Here, out should be the output of the network in the previous excercise with shape (64,10)\n",
    "probabilities = softmax(out)\n",
    "\n",
    "# Does it have the right shape? Should be (64, 10)\n",
    "print(probabilities.shape)\n",
    "# Does it sum to 1?\n",
    "print(probabilities[0,:])\n",
    "print(probabilities[0,:].sum())\n",
    "\n",
    "print(probabilities.sum(dim=1))"
   ]
  },
  {
   "cell_type": "markdown",
   "metadata": {},
   "source": [
    "## Building networks with PyTorch\n",
    "\n",
    "PyTorch provides a module `nn` that makes building networks much simpler. Here I'll show you how to build the same one as above with 784 inputs, 256 hidden units, 10 output units and a softmax output."
   ]
  },
  {
   "cell_type": "code",
   "execution_count": 42,
   "metadata": {},
   "outputs": [],
   "source": [
    "from torch import nn"
   ]
  },
  {
   "cell_type": "code",
   "execution_count": 43,
   "metadata": {},
   "outputs": [],
   "source": [
    "class Network(nn.Module):\n",
    "    def __init__(self):\n",
    "        super().__init__()\n",
    "        \n",
    "        # Inputs to hidden layer linear transformation\n",
    "        self.hidden = nn.Linear(784, 256)\n",
    "        # Output layer, 10 units - one for each digit\n",
    "        self.output = nn.Linear(256, 10)\n",
    "        \n",
    "        # Define sigmoid activation and softmax output \n",
    "        self.sigmoid = nn.Sigmoid()\n",
    "        self.softmax = nn.Softmax(dim=1)\n",
    "        \n",
    "    def forward(self, x):\n",
    "        # Pass the input tensor through each of our operations\n",
    "        x = self.hidden(x)\n",
    "        x = self.sigmoid(x)\n",
    "        x = self.output(x)\n",
    "        x = self.softmax(x)\n",
    "        \n",
    "        return x"
   ]
  },
  {
   "cell_type": "markdown",
   "metadata": {},
   "source": [
    "Let's go through this bit by bit.\n",
    "\n",
    "```python\n",
    "class Network(nn.Module):\n",
    "```\n",
    "\n",
    "Here we're inheriting from `nn.Module`. Combined with `super().__init__()` this creates a class that tracks the architecture and provides a lot of useful methods and attributes. It is mandatory to inherit from `nn.Module` when you're creating a class for your network. The name of the class itself can be anything.\n",
    "\n",
    "```python\n",
    "self.hidden = nn.Linear(784, 256)\n",
    "```\n",
    "\n",
    "This line creates a module for a linear transformation, $x\\mathbf{W} + b$, with 784 inputs and 256 outputs and assigns it to `self.hidden`. The module automatically creates the weight and bias tensors which we'll use in the `forward` method. You can access the weight and bias tensors once the network (`net`) is created with `net.hidden.weight` and `net.hidden.bias`.\n",
    "\n",
    "```python\n",
    "self.output = nn.Linear(256, 10)\n",
    "```\n",
    "\n",
    "Similarly, this creates another linear transformation with 256 inputs and 10 outputs.\n",
    "\n",
    "```python\n",
    "self.sigmoid = nn.Sigmoid()\n",
    "self.softmax = nn.Softmax(dim=1)\n",
    "```\n",
    "\n",
    "Here I defined operations for the sigmoid activation and softmax output. Setting `dim=1` in `nn.Softmax(dim=1)` calculates softmax across the columns.\n",
    "\n",
    "```python\n",
    "def forward(self, x):\n",
    "```\n",
    "\n",
    "PyTorch networks created with `nn.Module` must have a `forward` method defined. It takes in a tensor `x` and passes it through the operations you defined in the `__init__` method.\n",
    "\n",
    "```python\n",
    "x = self.hidden(x)\n",
    "x = self.sigmoid(x)\n",
    "x = self.output(x)\n",
    "x = self.softmax(x)\n",
    "```\n",
    "\n",
    "Here the input tensor `x` is passed through each operation and reassigned to `x`. We can see that the input tensor goes through the hidden layer, then a sigmoid function, then the output layer, and finally the softmax function. It doesn't matter what you name the variables here, as long as the inputs and outputs of the operations match the network architecture you want to build. The order in which you define things in the `__init__` method doesn't matter, but you'll need to sequence the operations correctly in the `forward` method.\n",
    "\n",
    "Now we can create a `Network` object."
   ]
  },
  {
   "cell_type": "code",
   "execution_count": 50,
   "metadata": {},
   "outputs": [
    {
     "data": {
      "text/plain": [
       "Network(\n",
       "  (hidden): Linear(in_features=784, out_features=256, bias=True)\n",
       "  (output): Linear(in_features=256, out_features=10, bias=True)\n",
       "  (sigmoid): Sigmoid()\n",
       "  (softmax): Softmax(dim=1)\n",
       ")"
      ]
     },
     "execution_count": 50,
     "metadata": {},
     "output_type": "execute_result"
    }
   ],
   "source": [
    "# Create the network and look at it's text representation\n",
    "model = Network()\n",
    "model"
   ]
  },
  {
   "cell_type": "markdown",
   "metadata": {},
   "source": [
    "You can define the network somewhat more concisely and clearly using the `torch.nn.functional` module. This is the most common way you'll see networks defined as many operations are simple element-wise functions. We normally import this module as `F`, `import torch.nn.functional as F`."
   ]
  },
  {
   "cell_type": "code",
   "execution_count": 51,
   "metadata": {},
   "outputs": [],
   "source": [
    "import torch.nn.functional as F\n",
    "\n",
    "class Network(nn.Module):\n",
    "    def __init__(self):\n",
    "        super().__init__()\n",
    "        # Inputs to hidden layer linear transformation\n",
    "        self.hidden = nn.Linear(784, 256)\n",
    "        # Output layer, 10 units - one for each digit\n",
    "        self.output = nn.Linear(256, 10)\n",
    "        \n",
    "    def forward(self, x):\n",
    "        # Hidden layer with sigmoid activation\n",
    "        x = F.sigmoid(self.hidden(x))\n",
    "        # Output layer with softmax activation\n",
    "        x = F.softmax(self.output(x), dim=1)\n",
    "        \n",
    "        return x"
   ]
  },
  {
   "cell_type": "markdown",
   "metadata": {},
   "source": [
    "### Activation functions\n",
    "\n",
    "So far we've only been looking at the sigmoid activation function, but in general any function can be used as an activation function. The only requirement is that for a network to approximate a non-linear function, the activation functions must be non-linear. Here are a few more examples of common activation functions: Tanh (hyperbolic tangent), and ReLU (rectified linear unit).\n",
    "\n",
    "<img src=\"assets/activation.png\" width=700px>\n",
    "\n",
    "In practice, the ReLU function is used almost exclusively as the activation function for hidden layers."
   ]
  },
  {
   "cell_type": "markdown",
   "metadata": {},
   "source": [
    "### Your Turn to Build a Network\n",
    "\n",
    "<img src=\"assets/mlp_mnist.png\" width=600px>\n",
    "\n",
    "> **Exercise:** Create a network with 784 input units, a hidden layer with 128 units and a ReLU activation, then a hidden layer with 64 units and a ReLU activation, and finally an output layer with a softmax activation as shown above. You can use a ReLU activation with the `nn.ReLU` module or `F.relu` function.\n",
    "\n",
    "It's good practice to name your layers by their type of network, for instance 'fc' to represent a fully-connected layer. As you code your solution, use `fc1`, `fc2`, and `fc3` as your layer names."
   ]
  },
  {
   "cell_type": "code",
   "execution_count": 52,
   "metadata": {
    "scrolled": true
   },
   "outputs": [],
   "source": [
    "## Your solution here\n",
    "import torch.nn.functional as F\n",
    "\n",
    "class MyNetwork(nn.Module):\n",
    "    def __init__(self):\n",
    "        super().__init__()\n",
    "        # Inputs to hidden layer linear transformation\n",
    "        self.fc1 = nn.Linear(784, 128)\n",
    "        self.fc2 = nn.Linear(128, 64)\n",
    "        self.fc3 = nn.Linear(64, 10)\n",
    "        \n",
    "    def forward(self, x):\n",
    "        # Hidden layer with sigmoid activation\n",
    "        x = F.relu(self.fc1(x))\n",
    "        x = F.relu(self.fc2(x))\n",
    "        x = F.softmax(self.fc3(x),dim=1)\n",
    "        # Output layer with softmax activation\n",
    "        return x\n",
    "\n",
    "\n",
    "model = MyNetwork()\n"
   ]
  },
  {
   "cell_type": "markdown",
   "metadata": {},
   "source": [
    "### Initializing weights and biases\n",
    "\n",
    "The weights and such are automatically initialized for you, but it's possible to customize how they are initialized. The weights and biases are tensors attached to the layer you defined, you can get them with `model.fc1.weight` for instance."
   ]
  },
  {
   "cell_type": "code",
   "execution_count": 53,
   "metadata": {},
   "outputs": [
    {
     "name": "stdout",
     "output_type": "stream",
     "text": [
      "Parameter containing:\n",
      "tensor([[ 0.0019,  0.0005, -0.0266,  ...,  0.0021,  0.0257,  0.0180],\n",
      "        [-0.0291,  0.0194,  0.0033,  ..., -0.0058, -0.0152, -0.0074],\n",
      "        [-0.0255,  0.0141, -0.0173,  ..., -0.0066,  0.0269,  0.0035],\n",
      "        ...,\n",
      "        [-0.0114,  0.0222,  0.0197,  ...,  0.0243,  0.0304,  0.0111],\n",
      "        [-0.0090, -0.0345, -0.0355,  ..., -0.0130,  0.0239, -0.0339],\n",
      "        [ 0.0088,  0.0205,  0.0327,  ..., -0.0091,  0.0315,  0.0055]],\n",
      "       requires_grad=True)\n",
      "Parameter containing:\n",
      "tensor([-0.0006, -0.0100,  0.0276, -0.0134, -0.0039,  0.0245, -0.0207,  0.0039,\n",
      "        -0.0155,  0.0004,  0.0028, -0.0305,  0.0163,  0.0109, -0.0037,  0.0187,\n",
      "         0.0095,  0.0269, -0.0096, -0.0019, -0.0355,  0.0344,  0.0178, -0.0305,\n",
      "        -0.0307, -0.0113, -0.0355,  0.0336, -0.0058, -0.0032,  0.0309,  0.0017,\n",
      "         0.0203, -0.0101,  0.0036, -0.0251, -0.0256, -0.0087,  0.0092, -0.0355,\n",
      "         0.0127, -0.0146, -0.0254, -0.0126, -0.0269,  0.0212,  0.0112, -0.0237,\n",
      "         0.0278,  0.0016, -0.0003,  0.0029, -0.0072,  0.0156,  0.0173, -0.0053,\n",
      "         0.0148,  0.0055,  0.0167, -0.0079,  0.0071,  0.0239,  0.0309,  0.0081,\n",
      "         0.0260,  0.0178, -0.0177,  0.0286, -0.0192,  0.0316, -0.0331, -0.0061,\n",
      "        -0.0203, -0.0219,  0.0069, -0.0191,  0.0133, -0.0211,  0.0017,  0.0135,\n",
      "        -0.0236, -0.0094,  0.0270,  0.0357, -0.0104,  0.0139,  0.0025, -0.0290,\n",
      "         0.0053, -0.0285,  0.0193, -0.0171,  0.0198,  0.0064,  0.0045,  0.0033,\n",
      "        -0.0205, -0.0122,  0.0348, -0.0299, -0.0246,  0.0097, -0.0101, -0.0285,\n",
      "         0.0185,  0.0236,  0.0244, -0.0269, -0.0338, -0.0353,  0.0282,  0.0088,\n",
      "        -0.0025, -0.0083, -0.0050,  0.0320, -0.0272, -0.0181,  0.0189,  0.0148,\n",
      "        -0.0171, -0.0174, -0.0209, -0.0208, -0.0314, -0.0042, -0.0348, -0.0181],\n",
      "       requires_grad=True)\n"
     ]
    }
   ],
   "source": [
    "print(model.fc1.weight)\n",
    "print(model.fc1.bias)"
   ]
  },
  {
   "cell_type": "markdown",
   "metadata": {},
   "source": [
    "For custom initialization, we want to modify these tensors in place. These are actually autograd *Variables*, so we need to get back the actual tensors with `model.fc1.weight.data`. Once we have the tensors, we can fill them with zeros (for biases) or random normal values."
   ]
  },
  {
   "cell_type": "code",
   "execution_count": 55,
   "metadata": {},
   "outputs": [
    {
     "data": {
      "text/plain": [
       "tensor([0., 0., 0., 0., 0., 0., 0., 0., 0., 0., 0., 0., 0., 0., 0., 0., 0., 0., 0., 0., 0., 0., 0., 0.,\n",
       "        0., 0., 0., 0., 0., 0., 0., 0., 0., 0., 0., 0., 0., 0., 0., 0., 0., 0., 0., 0., 0., 0., 0., 0.,\n",
       "        0., 0., 0., 0., 0., 0., 0., 0., 0., 0., 0., 0., 0., 0., 0., 0., 0., 0., 0., 0., 0., 0., 0., 0.,\n",
       "        0., 0., 0., 0., 0., 0., 0., 0., 0., 0., 0., 0., 0., 0., 0., 0., 0., 0., 0., 0., 0., 0., 0., 0.,\n",
       "        0., 0., 0., 0., 0., 0., 0., 0., 0., 0., 0., 0., 0., 0., 0., 0., 0., 0., 0., 0., 0., 0., 0., 0.,\n",
       "        0., 0., 0., 0., 0., 0., 0., 0.])"
      ]
     },
     "execution_count": 55,
     "metadata": {},
     "output_type": "execute_result"
    }
   ],
   "source": [
    "# Set biases to all zeros\n",
    "model.fc1.bias.data.fill_(0)"
   ]
  },
  {
   "cell_type": "code",
   "execution_count": 56,
   "metadata": {},
   "outputs": [
    {
     "data": {
      "text/plain": [
       "tensor([[ 0.0013, -0.0097, -0.0107,  ...,  0.0088, -0.0066,  0.0040],\n",
       "        [-0.0093,  0.0021,  0.0107,  ...,  0.0003,  0.0007,  0.0027],\n",
       "        [ 0.0085, -0.0038,  0.0023,  ..., -0.0218, -0.0126,  0.0017],\n",
       "        ...,\n",
       "        [ 0.0034, -0.0230,  0.0046,  ...,  0.0049, -0.0056,  0.0109],\n",
       "        [-0.0020,  0.0027, -0.0104,  ...,  0.0089, -0.0030,  0.0080],\n",
       "        [ 0.0027,  0.0078, -0.0043,  ..., -0.0089,  0.0020,  0.0119]])"
      ]
     },
     "execution_count": 56,
     "metadata": {},
     "output_type": "execute_result"
    }
   ],
   "source": [
    "# sample from random normal with standard dev = 0.01\n",
    "model.fc1.weight.data.normal_(std=0.01)"
   ]
  },
  {
   "cell_type": "markdown",
   "metadata": {},
   "source": [
    "### Forward pass\n",
    "\n",
    "Now that we have a network, let's see what happens when we pass in an image."
   ]
  },
  {
   "cell_type": "code",
   "execution_count": 57,
   "metadata": {},
   "outputs": [
    {
     "data": {
      "image/png": "[encoded data removed]",
      "text/plain": [
       "<Figure size 432x648 with 2 Axes>"
      ]
     },
     "metadata": {
      "image/png": {
       "height": 235,
       "width": 424
      },
      "needs_background": "light"
     },
     "output_type": "display_data"
    }
   ],
   "source": [
    "# Grab some data \n",
    "dataiter = iter(trainloader)\n",
    "images, labels = dataiter.next()\n",
    "\n",
    "# Resize images into a 1D vector, new shape is (batch size, color channels, image pixels) \n",
    "images.resize_(64, 1, 784)\n",
    "# or images.resize_(images.shape[0], 1, 784) to automatically get batch size\n",
    "\n",
    "# Forward pass through the network\n",
    "img_idx = 0\n",
    "ps = model.forward(images[img_idx,:])\n",
    "\n",
    "img = images[img_idx]\n",
    "helper.view_classify(img.view(1, 28, 28), ps)"
   ]
  },
  {
   "cell_type": "markdown",
   "metadata": {},
   "source": [
    "As you can see above, our network has basically no idea what this digit is. It's because we haven't trained it yet, all the weights are random!\n",
    "\n",
    "### Using `nn.Sequential`\n",
    "\n",
    "PyTorch provides a convenient way to build networks like this where a tensor is passed sequentially through operations, `nn.Sequential` ([documentation](https://pytorch.org/docs/master/nn.html#torch.nn.Sequential)). Using this to build the equivalent network:"
   ]
  },
  {
   "cell_type": "code",
   "execution_count": null,
   "metadata": {
    "collapsed": true,
    "jupyter": {
     "outputs_hidden": true
    }
   },
   "outputs": [],
   "source": [
    "# Hyperparameters for our network\n",
    "input_size = 784\n",
    "hidden_sizes = [128, 64]\n",
    "output_size = 10\n",
    "\n",
    "# Build a feed-forward network\n",
    "model = nn.Sequential(nn.Linear(input_size, hidden_sizes[0]),\n",
    "                      nn.ReLU(),\n",
    "                      nn.Linear(hidden_sizes[0], hidden_sizes[1]),\n",
    "                      nn.ReLU(),\n",
    "                      nn.Linear(hidden_sizes[1], output_size),\n",
    "                      nn.Softmax(dim=1))\n",
    "print(model)\n",
    "\n",
    "# Forward pass through the network and display output\n",
    "images, labels = next(iter(trainloader))\n",
    "images.resize_(images.shape[0], 1, 784)\n",
    "ps = model.forward(images[0,:])\n",
    "helper.view_classify(images[0].view(1, 28, 28), ps)"
   ]
  },
  {
   "cell_type": "markdown",
   "metadata": {},
   "source": [
    "Here our model is the same as before: 784 input units, a hidden layer with 128 units, ReLU activation, 64 unit hidden layer, another ReLU, then the output layer with 10 units, and the softmax output.\n",
    "\n",
    "The operations are available by passing in the appropriate index. For example, if you want to get first Linear operation and look at the weights, you'd use `model[0]`."
   ]
  },
  {
   "cell_type": "code",
   "execution_count": null,
   "metadata": {
    "collapsed": true,
    "jupyter": {
     "outputs_hidden": true
    }
   },
   "outputs": [],
   "source": [
    "print(model[0])\n",
    "model[0].weight"
   ]
  },
  {
   "cell_type": "markdown",
   "metadata": {},
   "source": [
    "You can also pass in an `OrderedDict` to name the individual layers and operations, instead of using incremental integers. Note that dictionary keys must be unique, so _each operation must have a different name_."
   ]
  },
  {
   "cell_type": "code",
   "execution_count": null,
   "metadata": {
    "collapsed": true,
    "jupyter": {
     "outputs_hidden": true
    }
   },
   "outputs": [],
   "source": [
    "from collections import OrderedDict\n",
    "model = nn.Sequential(OrderedDict([\n",
    "                      ('fc1', nn.Linear(input_size, hidden_sizes[0])),\n",
    "                      ('relu1', nn.ReLU()),\n",
    "                      ('fc2', nn.Linear(hidden_sizes[0], hidden_sizes[1])),\n",
    "                      ('relu2', nn.ReLU()),\n",
    "                      ('output', nn.Linear(hidden_sizes[1], output_size)),\n",
    "                      ('softmax', nn.Softmax(dim=1))]))\n",
    "model"
   ]
  },
  {
   "cell_type": "markdown",
   "metadata": {},
   "source": [
    "Now you can access layers either by integer or the name"
   ]
  },
  {
   "cell_type": "code",
   "execution_count": null,
   "metadata": {
    "collapsed": true,
    "jupyter": {
     "outputs_hidden": true
    }
   },
   "outputs": [],
   "source": [
    "print(model[0])\n",
    "print(model.fc1)"
   ]
  },
  {
   "cell_type": "markdown",
   "metadata": {},
   "source": [
    "In the next notebook, we'll see how we can train a neural network to accuractly predict the numbers appearing in the MNIST images."
   ]
  }
 ],
 "metadata": {
  "kernelspec": {
   "display_name": "Python 3",
   "language": "python",
   "name": "python3"
  },
  "language_info": {
   "codemirror_mode": {
    "name": "ipython",
    "version": 3
   },
   "file_extension": ".py",
   "mimetype": "text/x-python",
   "name": "python",
   "nbconvert_exporter": "python",
   "pygments_lexer": "ipython3",
   "version": "3.6.7"
  }
 },
 "nbformat": 4,
 "nbformat_minor": 4
}
